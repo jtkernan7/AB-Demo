{
  "nbformat": 4,
  "nbformat_minor": 0,
  "metadata": {
    "colab": {
      "name": "JT_Kernan_Water_Project.ipynb",
      "version": "0.3.2",
      "provenance": [],
      "collapsed_sections": [],
      "include_colab_link": true
    },
    "kernelspec": {
      "name": "python3",
      "display_name": "Python 3"
    }
  },
  "cells": [
    {
      "cell_type": "markdown",
      "metadata": {
        "id": "view-in-github",
        "colab_type": "text"
      },
      "source": [
        "<a href=\"https://colab.research.google.com/github/jtkernan7/AB-Demo/blob/master/JT_Kernan_Water_Project.ipynb\" target=\"_parent\"><img src=\"https://colab.research.google.com/assets/colab-badge.svg\" alt=\"Open In Colab\"/></a>"
      ]
    },
    {
      "cell_type": "code",
      "metadata": {
        "id": "flopaw6dP510",
        "colab_type": "code",
        "colab": {
          "base_uri": "https://localhost:8080/",
          "height": 35
        },
        "outputId": "c10b60a2-fe90-40c6-d113-f24ba09574c9"
      },
      "source": [
        "#import data\n",
        "import pandas as pd\n",
        "train_features = pd.read_csv('https://drive.google.com/uc?export=download&id=14ULvX0uOgftTB2s97uS8lIx1nHGQIB0P')\n",
        "train_labels = pd.read_csv('https://drive.google.com/uc?export=download&id=1r441wLr7gKGHGLyPpKauvCuUOU556S2f')\n",
        "test_features = pd.read_csv('https://drive.google.com/uc?export=download&id=1wvsYl9hbRbZuIuoaLWCsW_kbcxCdocHz')\n",
        "sample_submission = pd.read_csv('https://drive.google.com/uc?export=download&id=1kfJewnmhowpUo381oSn3XqsQ6Eto23XV')\n",
        "train_features.shape, train_labels.shape, test_features.shape, sample_submission.shape"
      ],
      "execution_count": 1,
      "outputs": [
        {
          "output_type": "execute_result",
          "data": {
            "text/plain": [
              "((59400, 40), (59400, 2), (14358, 40), (14358, 2))"
            ]
          },
          "metadata": {
            "tags": []
          },
          "execution_count": 1
        }
      ]
    },
    {
      "cell_type": "code",
      "metadata": {
        "id": "Bto40S67QNWI",
        "colab_type": "code",
        "colab": {
          "base_uri": "https://localhost:8080/",
          "height": 88
        },
        "outputId": "8103c9e0-3008-4be9-fe35-be28f7f7b1b3"
      },
      "source": [
        "#majority class\n",
        "y_train = train_labels['status_group']\n",
        "y_train.value_counts(normalize=True)"
      ],
      "execution_count": 6,
      "outputs": [
        {
          "output_type": "execute_result",
          "data": {
            "text/plain": [
              "functional                 0.543081\n",
              "non functional             0.384242\n",
              "functional needs repair    0.072677\n",
              "Name: status_group, dtype: float64"
            ]
          },
          "metadata": {
            "tags": []
          },
          "execution_count": 6
        }
      ]
    },
    {
      "cell_type": "code",
      "metadata": {
        "id": "rOqnBGpnQPJF",
        "colab_type": "code",
        "colab": {
          "base_uri": "https://localhost:8080/",
          "height": 35
        },
        "outputId": "ce22069f-5e04-4188-f382-8e60f5913d06"
      },
      "source": [
        "# majority class baseline\n",
        "from sklearn.metrics import accuracy_score\n",
        "\n",
        "majority_class = y_train.mode()[0]\n",
        "y_pred = [majority_class]* len(y_train)\n",
        "\n",
        "\n",
        "accuracy_score(y_train, y_pred)"
      ],
      "execution_count": 7,
      "outputs": [
        {
          "output_type": "execute_result",
          "data": {
            "text/plain": [
              "0.543080808080808"
            ]
          },
          "metadata": {
            "tags": []
          },
          "execution_count": 7
        }
      ]
    },
    {
      "cell_type": "code",
      "metadata": {
        "id": "uh7X9RnoQodf",
        "colab_type": "code",
        "colab": {
          "base_uri": "https://localhost:8080/",
          "height": 35
        },
        "outputId": "cb4b4327-758c-4a02-a826-a29411cf6b7d"
      },
      "source": [
        "#train test split\n",
        "from sklearn.model_selection import train_test_split\n",
        "\n",
        "X_train = train_features.copy()\n",
        "\n",
        "X_train, X_val, y_train, y_val = train_test_split(X_train,y_train, train_size=0.80,\n",
        "                                                 test_size=0.2, stratify = y_train, random_state = 42)\n",
        "\n",
        "X_train.shape, X_val.shape, y_train.shape, y_val.shape"
      ],
      "execution_count": 8,
      "outputs": [
        {
          "output_type": "execute_result",
          "data": {
            "text/plain": [
              "((47520, 40), (11880, 40), (47520,), (11880,))"
            ]
          },
          "metadata": {
            "tags": []
          },
          "execution_count": 8
        }
      ]
    },
    {
      "cell_type": "code",
      "metadata": {
        "id": "prqPA6X8QoTl",
        "colab_type": "code",
        "colab": {}
      },
      "source": [
        "#non numeric\n",
        "\n",
        "X_train_numeric = X_train.select_dtypes('number')\n",
        "X_val_numeric = X_val.select_dtypes('number')\n"
      ],
      "execution_count": 0,
      "outputs": []
    },
    {
      "cell_type": "code",
      "metadata": {
        "id": "_hjVAMmKRICd",
        "colab_type": "code",
        "colab": {
          "base_uri": "https://localhost:8080/",
          "height": 161
        },
        "outputId": "6efe478e-70e4-435b-e474-c9f20633556e"
      },
      "source": [
        "#logistic regression on training data\n",
        "\n",
        "from sklearn.linear_model import LogisticRegression\n",
        "\n",
        "model = LogisticRegression(solver = 'lbfgs', multi_class = 'auto', max_iter = 1000)\n",
        "model.fit(X_train_numeric, y_train)"
      ],
      "execution_count": 10,
      "outputs": [
        {
          "output_type": "stream",
          "text": [
            "/usr/local/lib/python3.6/dist-packages/sklearn/linear_model/logistic.py:947: ConvergenceWarning: lbfgs failed to converge. Increase the number of iterations.\n",
            "  \"of iterations.\", ConvergenceWarning)\n"
          ],
          "name": "stderr"
        },
        {
          "output_type": "execute_result",
          "data": {
            "text/plain": [
              "LogisticRegression(C=1.0, class_weight=None, dual=False, fit_intercept=True,\n",
              "                   intercept_scaling=1, l1_ratio=None, max_iter=1000,\n",
              "                   multi_class='auto', n_jobs=None, penalty='l2',\n",
              "                   random_state=None, solver='lbfgs', tol=0.0001, verbose=0,\n",
              "                   warm_start=False)"
            ]
          },
          "metadata": {
            "tags": []
          },
          "execution_count": 10
        }
      ]
    },
    {
      "cell_type": "code",
      "metadata": {
        "id": "T_yIGca6RQ2S",
        "colab_type": "code",
        "colab": {
          "base_uri": "https://localhost:8080/",
          "height": 35
        },
        "outputId": "3aae312c-069c-46ca-fdb8-d0ced42a8d3f"
      },
      "source": [
        "#model evaluation on validation data\n",
        "\n",
        "y_pred = model.predict(X_val_numeric)\n",
        "accuracy_score(y_val, y_pred)"
      ],
      "execution_count": 11,
      "outputs": [
        {
          "output_type": "execute_result",
          "data": {
            "text/plain": [
              "0.5546296296296296"
            ]
          },
          "metadata": {
            "tags": []
          },
          "execution_count": 11
        }
      ]
    },
    {
      "cell_type": "code",
      "metadata": {
        "id": "AGWeWPAFRpuL",
        "colab_type": "code",
        "colab": {}
      },
      "source": [
        "#logistic regression predictions\n",
        "\n",
        "## maybe come back here"
      ],
      "execution_count": 0,
      "outputs": []
    },
    {
      "cell_type": "code",
      "metadata": {
        "id": "riPddObKRxYn",
        "colab_type": "code",
        "colab": {
          "base_uri": "https://localhost:8080/",
          "height": 304
        },
        "outputId": "4fa88f5e-5985-48df-a61f-aebb9ac1dbe3"
      },
      "source": [
        "#one hot encoder for categorical install\n",
        "\n",
        "!pip install category_encoders"
      ],
      "execution_count": 12,
      "outputs": [
        {
          "output_type": "stream",
          "text": [
            "Collecting category_encoders\n",
            "\u001b[?25l  Downloading https://files.pythonhosted.org/packages/6e/a1/f7a22f144f33be78afeb06bfa78478e8284a64263a3c09b1ef54e673841e/category_encoders-2.0.0-py2.py3-none-any.whl (87kB)\n",
            "\u001b[K     |████████████████████████████████| 92kB 5.7MB/s \n",
            "\u001b[?25hRequirement already satisfied: patsy>=0.4.1 in /usr/local/lib/python3.6/dist-packages (from category_encoders) (0.5.1)\n",
            "Requirement already satisfied: scipy>=0.19.0 in /usr/local/lib/python3.6/dist-packages (from category_encoders) (1.3.0)\n",
            "Requirement already satisfied: scikit-learn>=0.20.0 in /usr/local/lib/python3.6/dist-packages (from category_encoders) (0.21.2)\n",
            "Requirement already satisfied: pandas>=0.21.1 in /usr/local/lib/python3.6/dist-packages (from category_encoders) (0.23.4)\n",
            "Requirement already satisfied: numpy>=1.11.3 in /usr/local/lib/python3.6/dist-packages (from category_encoders) (1.16.4)\n",
            "Requirement already satisfied: statsmodels>=0.6.1 in /usr/local/lib/python3.6/dist-packages (from category_encoders) (0.9.0)\n",
            "Requirement already satisfied: six in /usr/local/lib/python3.6/dist-packages (from patsy>=0.4.1->category_encoders) (1.12.0)\n",
            "Requirement already satisfied: joblib>=0.11 in /usr/local/lib/python3.6/dist-packages (from scikit-learn>=0.20.0->category_encoders) (0.13.2)\n",
            "Requirement already satisfied: pytz>=2011k in /usr/local/lib/python3.6/dist-packages (from pandas>=0.21.1->category_encoders) (2018.9)\n",
            "Requirement already satisfied: python-dateutil>=2.5.0 in /usr/local/lib/python3.6/dist-packages (from pandas>=0.21.1->category_encoders) (2.5.3)\n",
            "Installing collected packages: category-encoders\n",
            "Successfully installed category-encoders-2.0.0\n"
          ],
          "name": "stdout"
        }
      ]
    },
    {
      "cell_type": "code",
      "metadata": {
        "id": "xa39MQapR5BG",
        "colab_type": "code",
        "colab": {}
      },
      "source": [
        "import category_encoders as ce"
      ],
      "execution_count": 0,
      "outputs": []
    },
    {
      "cell_type": "code",
      "metadata": {
        "id": "iGVQdOwwR71t",
        "colab_type": "code",
        "colab": {
          "base_uri": "https://localhost:8080/",
          "height": 927
        },
        "outputId": "8bfc971d-3bcb-4474-a98a-0bacc4b4a8f3"
      },
      "source": [
        "#categorical features' cardinality check\n",
        "\n",
        "X_train.describe(exclude ='number').T.sort_values(by='unique')"
      ],
      "execution_count": 14,
      "outputs": [
        {
          "output_type": "execute_result",
          "data": {
            "text/html": [
              "<div>\n",
              "<style scoped>\n",
              "    .dataframe tbody tr th:only-of-type {\n",
              "        vertical-align: middle;\n",
              "    }\n",
              "\n",
              "    .dataframe tbody tr th {\n",
              "        vertical-align: top;\n",
              "    }\n",
              "\n",
              "    .dataframe thead th {\n",
              "        text-align: right;\n",
              "    }\n",
              "</style>\n",
              "<table border=\"1\" class=\"dataframe\">\n",
              "  <thead>\n",
              "    <tr style=\"text-align: right;\">\n",
              "      <th></th>\n",
              "      <th>count</th>\n",
              "      <th>unique</th>\n",
              "      <th>top</th>\n",
              "      <th>freq</th>\n",
              "    </tr>\n",
              "  </thead>\n",
              "  <tbody>\n",
              "    <tr>\n",
              "      <th>recorded_by</th>\n",
              "      <td>47520</td>\n",
              "      <td>1</td>\n",
              "      <td>GeoData Consultants Ltd</td>\n",
              "      <td>47520</td>\n",
              "    </tr>\n",
              "    <tr>\n",
              "      <th>public_meeting</th>\n",
              "      <td>44876</td>\n",
              "      <td>2</td>\n",
              "      <td>True</td>\n",
              "      <td>40838</td>\n",
              "    </tr>\n",
              "    <tr>\n",
              "      <th>permit</th>\n",
              "      <td>45077</td>\n",
              "      <td>2</td>\n",
              "      <td>True</td>\n",
              "      <td>31071</td>\n",
              "    </tr>\n",
              "    <tr>\n",
              "      <th>source_class</th>\n",
              "      <td>47520</td>\n",
              "      <td>3</td>\n",
              "      <td>groundwater</td>\n",
              "      <td>36638</td>\n",
              "    </tr>\n",
              "    <tr>\n",
              "      <th>management_group</th>\n",
              "      <td>47520</td>\n",
              "      <td>5</td>\n",
              "      <td>user-group</td>\n",
              "      <td>42027</td>\n",
              "    </tr>\n",
              "    <tr>\n",
              "      <th>quantity_group</th>\n",
              "      <td>47520</td>\n",
              "      <td>5</td>\n",
              "      <td>enough</td>\n",
              "      <td>26567</td>\n",
              "    </tr>\n",
              "    <tr>\n",
              "      <th>quantity</th>\n",
              "      <td>47520</td>\n",
              "      <td>5</td>\n",
              "      <td>enough</td>\n",
              "      <td>26567</td>\n",
              "    </tr>\n",
              "    <tr>\n",
              "      <th>waterpoint_type_group</th>\n",
              "      <td>47520</td>\n",
              "      <td>6</td>\n",
              "      <td>communal standpipe</td>\n",
              "      <td>27642</td>\n",
              "    </tr>\n",
              "    <tr>\n",
              "      <th>quality_group</th>\n",
              "      <td>47520</td>\n",
              "      <td>6</td>\n",
              "      <td>good</td>\n",
              "      <td>40598</td>\n",
              "    </tr>\n",
              "    <tr>\n",
              "      <th>payment_type</th>\n",
              "      <td>47520</td>\n",
              "      <td>7</td>\n",
              "      <td>never pay</td>\n",
              "      <td>20287</td>\n",
              "    </tr>\n",
              "    <tr>\n",
              "      <th>source_type</th>\n",
              "      <td>47520</td>\n",
              "      <td>7</td>\n",
              "      <td>spring</td>\n",
              "      <td>13620</td>\n",
              "    </tr>\n",
              "    <tr>\n",
              "      <th>waterpoint_type</th>\n",
              "      <td>47520</td>\n",
              "      <td>7</td>\n",
              "      <td>communal standpipe</td>\n",
              "      <td>22778</td>\n",
              "    </tr>\n",
              "    <tr>\n",
              "      <th>extraction_type_class</th>\n",
              "      <td>47520</td>\n",
              "      <td>7</td>\n",
              "      <td>gravity</td>\n",
              "      <td>21448</td>\n",
              "    </tr>\n",
              "    <tr>\n",
              "      <th>payment</th>\n",
              "      <td>47520</td>\n",
              "      <td>7</td>\n",
              "      <td>never pay</td>\n",
              "      <td>20287</td>\n",
              "    </tr>\n",
              "    <tr>\n",
              "      <th>water_quality</th>\n",
              "      <td>47520</td>\n",
              "      <td>8</td>\n",
              "      <td>soft</td>\n",
              "      <td>40598</td>\n",
              "    </tr>\n",
              "    <tr>\n",
              "      <th>basin</th>\n",
              "      <td>47520</td>\n",
              "      <td>9</td>\n",
              "      <td>Lake Victoria</td>\n",
              "      <td>8137</td>\n",
              "    </tr>\n",
              "    <tr>\n",
              "      <th>source</th>\n",
              "      <td>47520</td>\n",
              "      <td>10</td>\n",
              "      <td>spring</td>\n",
              "      <td>13620</td>\n",
              "    </tr>\n",
              "    <tr>\n",
              "      <th>scheme_management</th>\n",
              "      <td>44392</td>\n",
              "      <td>12</td>\n",
              "      <td>VWC</td>\n",
              "      <td>29470</td>\n",
              "    </tr>\n",
              "    <tr>\n",
              "      <th>management</th>\n",
              "      <td>47520</td>\n",
              "      <td>12</td>\n",
              "      <td>vwc</td>\n",
              "      <td>32449</td>\n",
              "    </tr>\n",
              "    <tr>\n",
              "      <th>extraction_type_group</th>\n",
              "      <td>47520</td>\n",
              "      <td>13</td>\n",
              "      <td>gravity</td>\n",
              "      <td>21448</td>\n",
              "    </tr>\n",
              "    <tr>\n",
              "      <th>extraction_type</th>\n",
              "      <td>47520</td>\n",
              "      <td>18</td>\n",
              "      <td>gravity</td>\n",
              "      <td>21448</td>\n",
              "    </tr>\n",
              "    <tr>\n",
              "      <th>region</th>\n",
              "      <td>47520</td>\n",
              "      <td>21</td>\n",
              "      <td>Iringa</td>\n",
              "      <td>4250</td>\n",
              "    </tr>\n",
              "    <tr>\n",
              "      <th>lga</th>\n",
              "      <td>47520</td>\n",
              "      <td>124</td>\n",
              "      <td>Njombe</td>\n",
              "      <td>2003</td>\n",
              "    </tr>\n",
              "    <tr>\n",
              "      <th>date_recorded</th>\n",
              "      <td>47520</td>\n",
              "      <td>349</td>\n",
              "      <td>2011-03-17</td>\n",
              "      <td>474</td>\n",
              "    </tr>\n",
              "    <tr>\n",
              "      <th>funder</th>\n",
              "      <td>44616</td>\n",
              "      <td>1716</td>\n",
              "      <td>Government Of Tanzania</td>\n",
              "      <td>7321</td>\n",
              "    </tr>\n",
              "    <tr>\n",
              "      <th>installer</th>\n",
              "      <td>44603</td>\n",
              "      <td>1929</td>\n",
              "      <td>DWE</td>\n",
              "      <td>13978</td>\n",
              "    </tr>\n",
              "    <tr>\n",
              "      <th>ward</th>\n",
              "      <td>47520</td>\n",
              "      <td>2082</td>\n",
              "      <td>Igosi</td>\n",
              "      <td>257</td>\n",
              "    </tr>\n",
              "    <tr>\n",
              "      <th>scheme_name</th>\n",
              "      <td>24988</td>\n",
              "      <td>2563</td>\n",
              "      <td>K</td>\n",
              "      <td>548</td>\n",
              "    </tr>\n",
              "    <tr>\n",
              "      <th>subvillage</th>\n",
              "      <td>47234</td>\n",
              "      <td>17231</td>\n",
              "      <td>Shuleni</td>\n",
              "      <td>420</td>\n",
              "    </tr>\n",
              "    <tr>\n",
              "      <th>wpt_name</th>\n",
              "      <td>47520</td>\n",
              "      <td>30661</td>\n",
              "      <td>none</td>\n",
              "      <td>2879</td>\n",
              "    </tr>\n",
              "  </tbody>\n",
              "</table>\n",
              "</div>"
            ],
            "text/plain": [
              "                       count unique                      top   freq\n",
              "recorded_by            47520      1  GeoData Consultants Ltd  47520\n",
              "public_meeting         44876      2                     True  40838\n",
              "permit                 45077      2                     True  31071\n",
              "source_class           47520      3              groundwater  36638\n",
              "management_group       47520      5               user-group  42027\n",
              "quantity_group         47520      5                   enough  26567\n",
              "quantity               47520      5                   enough  26567\n",
              "waterpoint_type_group  47520      6       communal standpipe  27642\n",
              "quality_group          47520      6                     good  40598\n",
              "payment_type           47520      7                never pay  20287\n",
              "source_type            47520      7                   spring  13620\n",
              "waterpoint_type        47520      7       communal standpipe  22778\n",
              "extraction_type_class  47520      7                  gravity  21448\n",
              "payment                47520      7                never pay  20287\n",
              "water_quality          47520      8                     soft  40598\n",
              "basin                  47520      9            Lake Victoria   8137\n",
              "source                 47520     10                   spring  13620\n",
              "scheme_management      44392     12                      VWC  29470\n",
              "management             47520     12                      vwc  32449\n",
              "extraction_type_group  47520     13                  gravity  21448\n",
              "extraction_type        47520     18                  gravity  21448\n",
              "region                 47520     21                   Iringa   4250\n",
              "lga                    47520    124                   Njombe   2003\n",
              "date_recorded          47520    349               2011-03-17    474\n",
              "funder                 44616   1716   Government Of Tanzania   7321\n",
              "installer              44603   1929                      DWE  13978\n",
              "ward                   47520   2082                    Igosi    257\n",
              "scheme_name            24988   2563                        K    548\n",
              "subvillage             47234  17231                  Shuleni    420\n",
              "wpt_name               47520  30661                     none   2879"
            ]
          },
          "metadata": {
            "tags": []
          },
          "execution_count": 14
        }
      ]
    },
    {
      "cell_type": "code",
      "metadata": {
        "id": "_ahoWlWPSVSa",
        "colab_type": "code",
        "colab": {
          "base_uri": "https://localhost:8080/",
          "height": 124
        },
        "outputId": "dba6104e-3eb0-4921-aebd-dccb3840d2ef"
      },
      "source": [
        "# quantity feature exploration\n",
        "\n",
        "X_train['quantity'].value_counts(dropna = False)"
      ],
      "execution_count": 15,
      "outputs": [
        {
          "output_type": "execute_result",
          "data": {
            "text/plain": [
              "enough          26567\n",
              "insufficient    12153\n",
              "dry              4921\n",
              "seasonal         3244\n",
              "unknown           635\n",
              "Name: quantity, dtype: int64"
            ]
          },
          "metadata": {
            "tags": []
          },
          "execution_count": 15
        }
      ]
    },
    {
      "cell_type": "code",
      "metadata": {
        "id": "T2G_b2BfSisv",
        "colab_type": "code",
        "colab": {
          "base_uri": "https://localhost:8080/",
          "height": 319
        },
        "outputId": "6ad91f7a-0586-4f38-9287-d67c05721535"
      },
      "source": [
        "train = X_train.copy()\n",
        "train['status_group'] = y_train\n",
        "\n",
        "train.groupby('quantity')['status_group'].value_counts(normalize=True)"
      ],
      "execution_count": 16,
      "outputs": [
        {
          "output_type": "execute_result",
          "data": {
            "text/plain": [
              "quantity      status_group           \n",
              "dry           non functional             0.967689\n",
              "              functional                 0.026011\n",
              "              functional needs repair    0.006300\n",
              "enough        functional                 0.650920\n",
              "              non functional             0.276998\n",
              "              functional needs repair    0.072082\n",
              "insufficient  functional                 0.521106\n",
              "              non functional             0.382786\n",
              "              functional needs repair    0.096108\n",
              "seasonal      functional                 0.580456\n",
              "              non functional             0.318434\n",
              "              functional needs repair    0.101110\n",
              "unknown       non functional             0.713386\n",
              "              functional                 0.267717\n",
              "              functional needs repair    0.018898\n",
              "Name: status_group, dtype: float64"
            ]
          },
          "metadata": {
            "tags": []
          },
          "execution_count": 16
        }
      ]
    },
    {
      "cell_type": "code",
      "metadata": {
        "id": "1gT0KF0kSq2j",
        "colab_type": "code",
        "colab": {}
      },
      "source": [
        "#encode quantity feature\n",
        "\n",
        "encoder = ce.OneHotEncoder(use_cat_names = True)\n",
        "encoded = encoder.fit_transform(X_train['quantity'])"
      ],
      "execution_count": 0,
      "outputs": []
    },
    {
      "cell_type": "code",
      "metadata": {
        "id": "nJ1VZTMjTD3y",
        "colab_type": "code",
        "colab": {
          "base_uri": "https://localhost:8080/",
          "height": 35
        },
        "outputId": "56382412-6d5f-421e-95c9-fa74b4755e80"
      },
      "source": [
        "#one hot with scaling\n",
        "\n",
        "from sklearn.preprocessing import StandardScaler\n",
        "\n",
        "categorical_features = ['quantity']\n",
        "numeric_features = X_train.select_dtypes('number').columns.drop('id').tolist()\n",
        "features = categorical_features + numeric_features\n",
        "\n",
        "X_train_subset = X_train[features]\n",
        "X_val_subset = X_val[features]\n",
        "\n",
        "encoder = ce.OneHotEncoder(use_cat_names=True)\n",
        "X_train_encoded = encoder.fit_transform(X_train_subset)\n",
        "X_val_encoded = encoder.transform(X_val_subset)\n",
        "\n",
        "scaler = StandardScaler()\n",
        "X_train_scaled = scaler.fit_transform(X_train_encoded)\n",
        "X_val_scaled = scaler.transform(X_val_encoded)\n",
        "\n",
        "model = LogisticRegression(solver='lbfgs', multi_class='auto', max_iter=1000)\n",
        "model.fit(X_train_scaled, y_train)\n",
        "print('Validation Accuracy', model.score(X_val_scaled, y_val))"
      ],
      "execution_count": 19,
      "outputs": [
        {
          "output_type": "stream",
          "text": [
            "Validation Accuracy 0.6579124579124579\n"
          ],
          "name": "stdout"
        }
      ]
    },
    {
      "cell_type": "code",
      "metadata": {
        "id": "pKudXeRZTPPJ",
        "colab_type": "code",
        "colab": {
          "base_uri": "https://localhost:8080/",
          "height": 615
        },
        "outputId": "1eb9dd61-ebf3-4c3d-cf59-46a1bf07695e"
      },
      "source": [
        "#get and plot coefficients\n",
        "import matplotlib.pyplot as plt\n",
        "\n",
        "coefficients = pd.Series(model.coef_[0], X_train_encoded.columns)\n",
        "\n",
        "\n",
        "\n",
        "plt.figure(figsize= (10, 10))\n",
        "coefficients.sort_values().plot.barh();\n"
      ],
      "execution_count": 20,
      "outputs": [
        {
          "output_type": "display_data",
          "data": {
            "image/png": "[encoded data removed]",
            "text/plain": [
              "<Figure size 720x720 with 1 Axes>"
            ]
          },
          "metadata": {
            "tags": []
          }
        }
      ]
    },
    {
      "cell_type": "code",
      "metadata": {
        "id": "ANFQqwaZVTVO",
        "colab_type": "code",
        "colab": {}
      },
      "source": [
        "#work data into submission quality \n",
        "\n",
        "X_test_subset = test_features[features]\n",
        "X_test_encoded = encoder.transform(X_test_subset)\n",
        "X_test_scaled = scaler.transform(X_test_encoded)\n"
      ],
      "execution_count": 0,
      "outputs": []
    },
    {
      "cell_type": "code",
      "metadata": {
        "id": "1xyXzu8KVngo",
        "colab_type": "code",
        "colab": {}
      },
      "source": [
        "y_pred = model.predict(X_test_scaled)\n",
        "sumbission = sample_submission.copy()\n",
        "sumbission['status_group'] = y_pred\n",
        "sumbission.to_csv('submission-01.csv', index=False)"
      ],
      "execution_count": 0,
      "outputs": []
    },
    {
      "cell_type": "code",
      "metadata": {
        "id": "ts08ZNdiV6jD",
        "colab_type": "code",
        "colab": {
          "base_uri": "https://localhost:8080/",
          "height": 195
        },
        "outputId": "cde2233a-11f5-4bf2-db5e-90ec0c2ee6d4"
      },
      "source": [
        "#check sumbission format\n",
        "\n",
        "!head submission-01.csv"
      ],
      "execution_count": 26,
      "outputs": [
        {
          "output_type": "stream",
          "text": [
            "id,status_group\n",
            "50785,functional\n",
            "51630,functional\n",
            "17168,functional\n",
            "45559,non functional\n",
            "49871,functional\n",
            "52449,functional\n",
            "24806,functional\n",
            "28965,non functional\n",
            "36301,non functional\n"
          ],
          "name": "stdout"
        }
      ]
    },
    {
      "cell_type": "code",
      "metadata": {
        "id": "InhIpuEmVvkg",
        "colab_type": "code",
        "colab": {}
      },
      "source": [
        "#export file to local\n",
        "\n",
        "from google.colab import files\n",
        "files.download('submission-01.csv')"
      ],
      "execution_count": 0,
      "outputs": []
    }
  ]
}